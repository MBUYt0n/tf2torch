{
  "nbformat": 4,
  "nbformat_minor": 0,
  "metadata": {
    "colab": {
      "provenance": [],
      "gpuType": "T4"
    },
    "kernelspec": {
      "name": "python3",
      "display_name": "Python 3"
    },
    "language_info": {
      "name": "python"
    },
    "accelerator": "GPU"
  },
  "cells": [
    {
      "cell_type": "code",
      "execution_count": 2,
      "metadata": {
        "colab": {
          "base_uri": "https://localhost:8080/"
        },
        "id": "97B1MvvYTlyQ",
        "outputId": "4d261d43-c450-449f-ad2d-87e16e254278"
      },
      "outputs": [
        {
          "output_type": "stream",
          "name": "stdout",
          "text": [
            "--2025-02-04 16:32:33--  https://raw.githubusercontent.com/MBUYt0n/tf2torch/main/links.txt\n",
            "Resolving raw.githubusercontent.com (raw.githubusercontent.com)... 185.199.108.133, 185.199.109.133, 185.199.110.133, ...\n",
            "Connecting to raw.githubusercontent.com (raw.githubusercontent.com)|185.199.108.133|:443... connected.\n",
            "HTTP request sent, awaiting response... 200 OK\n",
            "Length: 305785 (299K) [text/plain]\n",
            "Saving to: ‘links.txt’\n",
            "\n",
            "links.txt           100%[===================>] 298.62K  --.-KB/s    in 0.004s  \n",
            "\n",
            "2025-02-04 16:32:34 (75.7 MB/s) - ‘links.txt’ saved [305785/305785]\n",
            "\n"
          ]
        }
      ],
      "source": [
        "from bs4 import BeautifulSoup\n",
        "import requests\n",
        "!wget https://raw.githubusercontent.com/MBUYt0n/tf2torch/main/links.txt"
      ]
    },
    {
      "cell_type": "code",
      "source": [
        "with open(\"/content/links.txt\", \"r\") as f:\n",
        "    links = f.readlines()\n",
        "    l, k = [], []\n",
        "    for i in links:\n",
        "        try:\n",
        "            l.append(\"https://www.tensorflow.org/\" + i.strip().split(\"file:///\")[1])\n",
        "        except:\n",
        "            l.append(i.split(\". \")[1])"
      ],
      "metadata": {
        "id": "Yx9jUMGDUFfX"
      },
      "execution_count": 3,
      "outputs": []
    },
    {
      "cell_type": "code",
      "source": [
        "l = l[12:]"
      ],
      "metadata": {
        "id": "8XmHPJPEVHVu"
      },
      "execution_count": 4,
      "outputs": []
    },
    {
      "cell_type": "code",
      "source": [
        "l[3]"
      ],
      "metadata": {
        "colab": {
          "base_uri": "https://localhost:8080/",
          "height": 35
        },
        "id": "PXXM6wYKXx9q",
        "outputId": "615847f9-70d7-4983-fa5c-ff175fd5fc1c"
      },
      "execution_count": 4,
      "outputs": [
        {
          "output_type": "execute_result",
          "data": {
            "text/plain": [
              "'https://www.tensorflow.org/api_docs/python/tf/GradientTape'"
            ],
            "application/vnd.google.colaboratory.intrinsic+json": {
              "type": "string"
            }
          },
          "metadata": {},
          "execution_count": 4
        }
      ]
    },
    {
      "cell_type": "code",
      "source": [
        "!pip install kdbai-client"
      ],
      "metadata": {
        "colab": {
          "base_uri": "https://localhost:8080/"
        },
        "id": "xSrBYu5Eu_83",
        "outputId": "770eca85-ce9d-4049-fd98-bb59ea21d646"
      },
      "execution_count": 12,
      "outputs": [
        {
          "output_type": "stream",
          "name": "stdout",
          "text": [
            "Collecting kdbai-client\n",
            "  Downloading kdbai_client-1.6.0-py3-none-any.whl.metadata (3.2 kB)\n",
            "Collecting botocore<2.0.0,>=1.35.42 (from kdbai-client)\n",
            "  Downloading botocore-1.36.12-py3-none-any.whl.metadata (5.7 kB)\n",
            "Collecting cohere==5.9.4 (from kdbai-client)\n",
            "  Downloading cohere-5.9.4-py3-none-any.whl.metadata (3.4 kB)\n",
            "Requirement already satisfied: packaging in /usr/local/lib/python3.11/dist-packages (from kdbai-client) (24.2)\n",
            "Requirement already satisfied: pandas>=1.5.0 in /usr/local/lib/python3.11/dist-packages (from kdbai-client) (2.2.2)\n",
            "Collecting pykx<3.0.0,>=2.1.1 (from kdbai-client)\n",
            "  Downloading pykx-2.5.5-cp311-cp311-manylinux_2_17_x86_64.manylinux2014_x86_64.whl.metadata (43 kB)\n",
            "\u001b[2K     \u001b[90m━━━━━━━━━━━━━━━━━━━━━━━━━━━━━━━━━━━━━━━━\u001b[0m \u001b[32m44.0/44.0 kB\u001b[0m \u001b[31m3.5 MB/s\u001b[0m eta \u001b[36m0:00:00\u001b[0m\n",
            "\u001b[?25hRequirement already satisfied: requests==2.32.3 in /usr/local/lib/python3.11/dist-packages (from kdbai-client) (2.32.3)\n",
            "Collecting voyageai==0.2.3 (from kdbai-client)\n",
            "  Downloading voyageai-0.2.3-py3-none-any.whl.metadata (2.6 kB)\n",
            "Collecting boto3<2.0.0,>=1.34.0 (from cohere==5.9.4->kdbai-client)\n",
            "  Downloading boto3-1.36.12-py3-none-any.whl.metadata (6.7 kB)\n",
            "Collecting fastavro<2.0.0,>=1.9.4 (from cohere==5.9.4->kdbai-client)\n",
            "  Downloading fastavro-1.10.0-cp311-cp311-manylinux_2_17_x86_64.manylinux2014_x86_64.whl.metadata (5.5 kB)\n",
            "Requirement already satisfied: httpx>=0.21.2 in /usr/local/lib/python3.11/dist-packages (from cohere==5.9.4->kdbai-client) (0.28.1)\n",
            "Collecting httpx-sse==0.4.0 (from cohere==5.9.4->kdbai-client)\n",
            "  Downloading httpx_sse-0.4.0-py3-none-any.whl.metadata (9.0 kB)\n",
            "Collecting parameterized<0.10.0,>=0.9.0 (from cohere==5.9.4->kdbai-client)\n",
            "  Downloading parameterized-0.9.0-py2.py3-none-any.whl.metadata (18 kB)\n",
            "Requirement already satisfied: pydantic>=1.9.2 in /usr/local/lib/python3.11/dist-packages (from cohere==5.9.4->kdbai-client) (2.10.6)\n",
            "Requirement already satisfied: pydantic-core<3.0.0,>=2.18.2 in /usr/local/lib/python3.11/dist-packages (from cohere==5.9.4->kdbai-client) (2.27.2)\n",
            "Requirement already satisfied: tokenizers<1,>=0.15 in /usr/local/lib/python3.11/dist-packages (from cohere==5.9.4->kdbai-client) (0.21.0)\n",
            "Collecting types-requests<3.0.0,>=2.0.0 (from cohere==5.9.4->kdbai-client)\n",
            "  Downloading types_requests-2.32.0.20241016-py3-none-any.whl.metadata (1.9 kB)\n",
            "Requirement already satisfied: typing_extensions>=4.0.0 in /usr/local/lib/python3.11/dist-packages (from cohere==5.9.4->kdbai-client) (4.12.2)\n",
            "Requirement already satisfied: charset-normalizer<4,>=2 in /usr/local/lib/python3.11/dist-packages (from requests==2.32.3->kdbai-client) (3.4.1)\n",
            "Requirement already satisfied: idna<4,>=2.5 in /usr/local/lib/python3.11/dist-packages (from requests==2.32.3->kdbai-client) (3.10)\n",
            "Requirement already satisfied: urllib3<3,>=1.21.1 in /usr/local/lib/python3.11/dist-packages (from requests==2.32.3->kdbai-client) (2.3.0)\n",
            "Requirement already satisfied: certifi>=2017.4.17 in /usr/local/lib/python3.11/dist-packages (from requests==2.32.3->kdbai-client) (2024.12.14)\n",
            "Requirement already satisfied: aiohttp<4.0,>=3.5 in /usr/local/lib/python3.11/dist-packages (from voyageai==0.2.3->kdbai-client) (3.11.11)\n",
            "Collecting aiolimiter<2.0.0,>=1.1.0 (from voyageai==0.2.3->kdbai-client)\n",
            "  Downloading aiolimiter-1.2.1-py3-none-any.whl.metadata (4.5 kB)\n",
            "Requirement already satisfied: numpy>=1.11 in /usr/local/lib/python3.11/dist-packages (from voyageai==0.2.3->kdbai-client) (1.26.4)\n",
            "Requirement already satisfied: tenacity>=8.0.1 in /usr/local/lib/python3.11/dist-packages (from voyageai==0.2.3->kdbai-client) (9.0.0)\n",
            "Collecting jmespath<2.0.0,>=0.7.1 (from botocore<2.0.0,>=1.35.42->kdbai-client)\n",
            "  Downloading jmespath-1.0.1-py3-none-any.whl.metadata (7.6 kB)\n",
            "Requirement already satisfied: python-dateutil<3.0.0,>=2.1 in /usr/local/lib/python3.11/dist-packages (from botocore<2.0.0,>=1.35.42->kdbai-client) (2.8.2)\n",
            "Requirement already satisfied: pytz>=2020.1 in /usr/local/lib/python3.11/dist-packages (from pandas>=1.5.0->kdbai-client) (2024.2)\n",
            "Requirement already satisfied: tzdata>=2022.7 in /usr/local/lib/python3.11/dist-packages (from pandas>=1.5.0->kdbai-client) (2025.1)\n",
            "Requirement already satisfied: toml~=0.10.2 in /usr/local/lib/python3.11/dist-packages (from pykx<3.0.0,>=2.1.1->kdbai-client) (0.10.2)\n",
            "Requirement already satisfied: aiohappyeyeballs>=2.3.0 in /usr/local/lib/python3.11/dist-packages (from aiohttp<4.0,>=3.5->voyageai==0.2.3->kdbai-client) (2.4.4)\n",
            "Requirement already satisfied: aiosignal>=1.1.2 in /usr/local/lib/python3.11/dist-packages (from aiohttp<4.0,>=3.5->voyageai==0.2.3->kdbai-client) (1.3.2)\n",
            "Requirement already satisfied: attrs>=17.3.0 in /usr/local/lib/python3.11/dist-packages (from aiohttp<4.0,>=3.5->voyageai==0.2.3->kdbai-client) (25.1.0)\n",
            "Requirement already satisfied: frozenlist>=1.1.1 in /usr/local/lib/python3.11/dist-packages (from aiohttp<4.0,>=3.5->voyageai==0.2.3->kdbai-client) (1.5.0)\n",
            "Requirement already satisfied: multidict<7.0,>=4.5 in /usr/local/lib/python3.11/dist-packages (from aiohttp<4.0,>=3.5->voyageai==0.2.3->kdbai-client) (6.1.0)\n",
            "Requirement already satisfied: propcache>=0.2.0 in /usr/local/lib/python3.11/dist-packages (from aiohttp<4.0,>=3.5->voyageai==0.2.3->kdbai-client) (0.2.1)\n",
            "Requirement already satisfied: yarl<2.0,>=1.17.0 in /usr/local/lib/python3.11/dist-packages (from aiohttp<4.0,>=3.5->voyageai==0.2.3->kdbai-client) (1.18.3)\n",
            "Collecting s3transfer<0.12.0,>=0.11.0 (from boto3<2.0.0,>=1.34.0->cohere==5.9.4->kdbai-client)\n",
            "  Downloading s3transfer-0.11.2-py3-none-any.whl.metadata (1.7 kB)\n",
            "Requirement already satisfied: anyio in /usr/local/lib/python3.11/dist-packages (from httpx>=0.21.2->cohere==5.9.4->kdbai-client) (3.7.1)\n",
            "Requirement already satisfied: httpcore==1.* in /usr/local/lib/python3.11/dist-packages (from httpx>=0.21.2->cohere==5.9.4->kdbai-client) (1.0.7)\n",
            "Requirement already satisfied: h11<0.15,>=0.13 in /usr/local/lib/python3.11/dist-packages (from httpcore==1.*->httpx>=0.21.2->cohere==5.9.4->kdbai-client) (0.14.0)\n",
            "Requirement already satisfied: annotated-types>=0.6.0 in /usr/local/lib/python3.11/dist-packages (from pydantic>=1.9.2->cohere==5.9.4->kdbai-client) (0.7.0)\n",
            "Requirement already satisfied: six>=1.5 in /usr/local/lib/python3.11/dist-packages (from python-dateutil<3.0.0,>=2.1->botocore<2.0.0,>=1.35.42->kdbai-client) (1.17.0)\n",
            "Requirement already satisfied: huggingface-hub<1.0,>=0.16.4 in /usr/local/lib/python3.11/dist-packages (from tokenizers<1,>=0.15->cohere==5.9.4->kdbai-client) (0.27.1)\n",
            "Requirement already satisfied: filelock in /usr/local/lib/python3.11/dist-packages (from huggingface-hub<1.0,>=0.16.4->tokenizers<1,>=0.15->cohere==5.9.4->kdbai-client) (3.17.0)\n",
            "Requirement already satisfied: fsspec>=2023.5.0 in /usr/local/lib/python3.11/dist-packages (from huggingface-hub<1.0,>=0.16.4->tokenizers<1,>=0.15->cohere==5.9.4->kdbai-client) (2024.10.0)\n",
            "Requirement already satisfied: pyyaml>=5.1 in /usr/local/lib/python3.11/dist-packages (from huggingface-hub<1.0,>=0.16.4->tokenizers<1,>=0.15->cohere==5.9.4->kdbai-client) (6.0.2)\n",
            "Requirement already satisfied: tqdm>=4.42.1 in /usr/local/lib/python3.11/dist-packages (from huggingface-hub<1.0,>=0.16.4->tokenizers<1,>=0.15->cohere==5.9.4->kdbai-client) (4.67.1)\n",
            "Requirement already satisfied: sniffio>=1.1 in /usr/local/lib/python3.11/dist-packages (from anyio->httpx>=0.21.2->cohere==5.9.4->kdbai-client) (1.3.1)\n",
            "Downloading kdbai_client-1.6.0-py3-none-any.whl (34 kB)\n",
            "Downloading cohere-5.9.4-py3-none-any.whl (233 kB)\n",
            "\u001b[2K   \u001b[90m━━━━━━━━━━━━━━━━━━━━━━━━━━━━━━━━━━━━━━━━\u001b[0m \u001b[32m233.1/233.1 kB\u001b[0m \u001b[31m20.2 MB/s\u001b[0m eta \u001b[36m0:00:00\u001b[0m\n",
            "\u001b[?25hDownloading voyageai-0.2.3-py3-none-any.whl (19 kB)\n",
            "Downloading httpx_sse-0.4.0-py3-none-any.whl (7.8 kB)\n",
            "Downloading botocore-1.36.12-py3-none-any.whl (13.3 MB)\n",
            "\u001b[2K   \u001b[90m━━━━━━━━━━━━━━━━━━━━━━━━━━━━━━━━━━━━━━━━\u001b[0m \u001b[32m13.3/13.3 MB\u001b[0m \u001b[31m111.5 MB/s\u001b[0m eta \u001b[36m0:00:00\u001b[0m\n",
            "\u001b[?25hDownloading pykx-2.5.5-cp311-cp311-manylinux_2_17_x86_64.manylinux2014_x86_64.whl (10.6 MB)\n",
            "\u001b[2K   \u001b[90m━━━━━━━━━━━━━━━━━━━━━━━━━━━━━━━━━━━━━━━━\u001b[0m \u001b[32m10.6/10.6 MB\u001b[0m \u001b[31m93.0 MB/s\u001b[0m eta \u001b[36m0:00:00\u001b[0m\n",
            "\u001b[?25hDownloading aiolimiter-1.2.1-py3-none-any.whl (6.7 kB)\n",
            "Downloading boto3-1.36.12-py3-none-any.whl (139 kB)\n",
            "\u001b[2K   \u001b[90m━━━━━━━━━━━━━━━━━━━━━━━━━━━━━━━━━━━━━━━━\u001b[0m \u001b[32m139.2/139.2 kB\u001b[0m \u001b[31m12.9 MB/s\u001b[0m eta \u001b[36m0:00:00\u001b[0m\n",
            "\u001b[?25hDownloading fastavro-1.10.0-cp311-cp311-manylinux_2_17_x86_64.manylinux2014_x86_64.whl (3.3 MB)\n",
            "\u001b[2K   \u001b[90m━━━━━━━━━━━━━━━━━━━━━━━━━━━━━━━━━━━━━━━━\u001b[0m \u001b[32m3.3/3.3 MB\u001b[0m \u001b[31m79.4 MB/s\u001b[0m eta \u001b[36m0:00:00\u001b[0m\n",
            "\u001b[?25hDownloading jmespath-1.0.1-py3-none-any.whl (20 kB)\n",
            "Downloading parameterized-0.9.0-py2.py3-none-any.whl (20 kB)\n",
            "Downloading types_requests-2.32.0.20241016-py3-none-any.whl (15 kB)\n",
            "Downloading s3transfer-0.11.2-py3-none-any.whl (84 kB)\n",
            "\u001b[2K   \u001b[90m━━━━━━━━━━━━━━━━━━━━━━━━━━━━━━━━━━━━━━━━\u001b[0m \u001b[32m84.2/84.2 kB\u001b[0m \u001b[31m8.0 MB/s\u001b[0m eta \u001b[36m0:00:00\u001b[0m\n",
            "\u001b[?25hInstalling collected packages: types-requests, parameterized, jmespath, httpx-sse, fastavro, aiolimiter, botocore, voyageai, s3transfer, pykx, boto3, cohere, kdbai-client\n",
            "Successfully installed aiolimiter-1.2.1 boto3-1.36.12 botocore-1.36.12 cohere-5.9.4 fastavro-1.10.0 httpx-sse-0.4.0 jmespath-1.0.1 kdbai-client-1.6.0 parameterized-0.9.0 pykx-2.5.5 s3transfer-0.11.2 types-requests-2.32.0.20241016 voyageai-0.2.3\n"
          ]
        }
      ]
    },
    {
      "cell_type": "code",
      "source": [
        "import kdbai_client as kdbai\n",
        "session = kdbai.Session(endpoint=\"https://cloud.kdb.ai/instance/kgeujvgj3s\", api_key=\"2a654c56f4-v0OPGUcyQX+Ej9AfVXsAOXYn+jKW6KeePnscNNFYcN6THu0YXfvKeG1Qfockuy8441Psb58z1wKI06mV\")\n",
        "\n",
        "db = session.database('default')"
      ],
      "metadata": {
        "id": "MJQk1Vg_vBuE"
      },
      "execution_count": 13,
      "outputs": []
    },
    {
      "cell_type": "code",
      "source": [
        "print(db.tables)"
      ],
      "metadata": {
        "colab": {
          "base_uri": "https://localhost:8080/"
        },
        "id": "fHpJryEZvOUa",
        "outputId": "ee8a0cf7-fc4f-4f40-fbda-c69ffd09d298"
      },
      "execution_count": 32,
      "outputs": [
        {
          "output_type": "stream",
          "name": "stdout",
          "text": [
            "[]\n"
          ]
        }
      ]
    },
    {
      "cell_type": "code",
      "source": [
        "schema = [{'name': 'id', 'type': 'int16'},\n",
        "{'name': 'header', 'type': 'str'},\n",
        "{'name': 'vectors', 'type': 'float32s'}]\n",
        "\n",
        "indexes = [ {'name': 'vectorIndex', 'type': 'flat',\n",
        "'params': {'dims': 768, 'metric': 'CS'},\n",
        "'column': 'vectors'}]"
      ],
      "metadata": {
        "id": "e0sRde2WvWER"
      },
      "execution_count": 33,
      "outputs": []
    },
    {
      "cell_type": "code",
      "source": [
        "table = db.create_table('test',schema=schema, indexes=indexes)"
      ],
      "metadata": {
        "id": "HMq8nhIUwrmJ"
      },
      "execution_count": 34,
      "outputs": []
    },
    {
      "cell_type": "code",
      "source": [
        "data = {}\n",
        "try:\n",
        "        r = requests.get(l[0], allow_redirects=False)\n",
        "        soup = BeautifulSoup(r.content)\n",
        "        a = soup.find_all(\"article\", class_=\"devsite-article\")[0].text.split()\n",
        "        data[a[5]] = ' '.join(a[6:])\n",
        "except Exception as e:\n",
        "        print(e)"
      ],
      "metadata": {
        "id": "FEdUnDaYV3I7"
      },
      "execution_count": 19,
      "outputs": []
    },
    {
      "cell_type": "code",
      "source": [
        "len(data[\"tf.AggregationMethod\"].split(\" \"))"
      ],
      "metadata": {
        "colab": {
          "base_uri": "https://localhost:8080/"
        },
        "id": "q0Qb3Yx50D7a",
        "outputId": "627bd7d9-ae00-44a3-df86-8722a0b87aae"
      },
      "execution_count": 20,
      "outputs": [
        {
          "output_type": "execute_result",
          "data": {
            "text/plain": [
              "220"
            ]
          },
          "metadata": {},
          "execution_count": 20
        }
      ]
    },
    {
      "cell_type": "code",
      "source": [
        "from transformers import BertModel, BertTokenizer\n",
        "import torch\n",
        "\n",
        "# Load pre-trained BERT model and tokenizer\n",
        "model_name = \"bert-base-uncased\"\n",
        "tokenizer = BertTokenizer.from_pretrained(model_name)\n",
        "model = BertModel.from_pretrained(model_name)"
      ],
      "metadata": {
        "id": "E7T4PKJrjWrB"
      },
      "execution_count": 21,
      "outputs": []
    },
    {
      "cell_type": "code",
      "source": [
        "inp = tokenizer(data[\"tf.AggregationMethod\"], return_tensors=\"pt\", padding=True, truncation=True)"
      ],
      "metadata": {
        "id": "PCD-ZgIujV-T"
      },
      "execution_count": 22,
      "outputs": []
    },
    {
      "cell_type": "code",
      "source": [
        "with torch.no_grad():\n",
        "    outputs = model(**inp)\n",
        "last_hidden_state = outputs.last_hidden_state  # Shape: (batch_size, sequence_length, hidden_size)\n",
        "last_hidden_state.shape"
      ],
      "metadata": {
        "colab": {
          "base_uri": "https://localhost:8080/"
        },
        "id": "CNwSjacaz57d",
        "outputId": "9e4bd70c-7192-4a9e-d94b-de57fe06656d"
      },
      "execution_count": 23,
      "outputs": [
        {
          "output_type": "execute_result",
          "data": {
            "text/plain": [
              "torch.Size([1, 401, 768])"
            ]
          },
          "metadata": {},
          "execution_count": 23
        }
      ]
    },
    {
      "cell_type": "code",
      "source": [
        "import pandas as pd\n",
        "\n",
        "d = pd.DataFrame({\n",
        "    \"id\" : [i for i in range(401)],\n",
        "    \"header\" : [\"tf.AggregationMethod\" for i in range(401)],\n",
        "    \"vectors\" : [i for i in last_hidden_state.numpy()[0]]\n",
        "})"
      ],
      "metadata": {
        "id": "n4nBOZ9SzHGc"
      },
      "execution_count": 35,
      "outputs": []
    },
    {
      "cell_type": "code",
      "source": [
        "db.table(\"test\").insert(d)"
      ],
      "metadata": {
        "colab": {
          "base_uri": "https://localhost:8080/"
        },
        "id": "E4OgPzlI18DJ",
        "outputId": "38e03317-7e72-4397-8b42-47356d7c7560"
      },
      "execution_count": 36,
      "outputs": [
        {
          "output_type": "execute_result",
          "data": {
            "text/plain": [
              "{'rowsInserted': 401}"
            ]
          },
          "metadata": {},
          "execution_count": 36
        }
      ]
    },
    {
      "cell_type": "code",
      "source": [
        "inp = tokenizer(\"EXPERIMENTAL_TREE\", return_tensors=\"pt\", padding=True, truncation=True)\n",
        "with torch.no_grad():\n",
        "    outputs = model(**inp).last_hidden_state[0]"
      ],
      "metadata": {
        "id": "b7v09zeN2wO1"
      },
      "execution_count": 37,
      "outputs": []
    },
    {
      "cell_type": "code",
      "source": [
        "outputs.shape"
      ],
      "metadata": {
        "colab": {
          "base_uri": "https://localhost:8080/"
        },
        "id": "wwROjKi44mOg",
        "outputId": "1c752014-4921-4500-d59a-a89ec3228a27"
      },
      "execution_count": 42,
      "outputs": [
        {
          "output_type": "execute_result",
          "data": {
            "text/plain": [
              "torch.Size([5, 768])"
            ]
          },
          "metadata": {},
          "execution_count": 42
        }
      ]
    },
    {
      "cell_type": "code",
      "source": [
        "results = db.table(\"test\").search({'vectorIndex': outputs.numpy()}, n=1)\n",
        "results[0]"
      ],
      "metadata": {
        "id": "oY1D2oA_4Pax"
      },
      "execution_count": null,
      "outputs": []
    }
  ]
}